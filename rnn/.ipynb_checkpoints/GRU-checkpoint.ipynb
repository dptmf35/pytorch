{
 "cells": [
  {
   "cell_type": "code",
   "execution_count": 11,
   "id": "49897e6c",
   "metadata": {},
   "outputs": [],
   "source": [
    "import torch\n",
    "import torch.nn\n",
    "import torchvision.transforms as transforms\n",
    "import torchvision.datasets\n",
    "from torch.autograd import Variable\n",
    "from torch.nn import Parameter\n",
    "import torch.nn as nn\n",
    "from torch import Tensor\n",
    "import torch.nn.functional as F\n",
    "from torch.utils.data import DataLoader\n",
    "import math\n",
    "\n",
    "device = torch.device('cuda:0' if torch.cuda.is_available() else 'cpu')\n",
    "\n",
    "cuda = True if torch.cuda.is_available() else False\n",
    "Tensor = torch.cuda.FloatTensor if cuda else torch.FloatTensor\n",
    "\n",
    "torch.manual_seed(125)\n",
    "\n",
    "if torch.cuda.is_available() :\n",
    "    torch.cuda.manual_seed_all(125)"
   ]
  },
  {
   "cell_type": "code",
   "execution_count": 4,
   "id": "37784562",
   "metadata": {},
   "outputs": [],
   "source": [
    "mnist_transform = transforms.Compose([\n",
    "    transforms.ToTensor(),\n",
    "    transforms.Normalize((0.5, ), (1.0, ))\n",
    "])"
   ]
  },
  {
   "cell_type": "code",
   "execution_count": 7,
   "id": "e3d92446",
   "metadata": {},
   "outputs": [],
   "source": [
    "from torchvision.datasets import MNIST\n",
    "download_root = '../080289-main/chap07/MNIST_DATASET'\n",
    "\n",
    "train_dataset = MNIST(download_root, transform=mnist_transform, train=True,\n",
    "                    download=True)\n",
    "valid_dataset = MNIST(download_root, transform=mnist_transform, train=False,\n",
    "                     download=True)\n",
    "test_dataset = MNIST(download_root, transform=mnist_transform, train=False,\n",
    "                    download=True)"
   ]
  },
  {
   "cell_type": "code",
   "execution_count": 8,
   "id": "ec907fa0",
   "metadata": {},
   "outputs": [],
   "source": [
    "batch_size=64\n",
    "train_loader = DataLoader(dataset=train_dataset,\n",
    "                         batch_size=batch_size, shuffle=True)\n",
    "valid_loader = DataLoader(dataset=test_dataset,\n",
    "                         batch_size=batch_size, shuffle=True)\n",
    "test_loader = DataLoader(dataset=test_dataset,\n",
    "                        batch_size=batch_size, shuffle=True)"
   ]
  },
  {
   "cell_type": "code",
   "execution_count": 9,
   "id": "682ae528",
   "metadata": {},
   "outputs": [],
   "source": [
    "batch_size=100\n",
    "n_iters=6000\n",
    "num_epochs = n_iters/(len(train_dataset)/batch_size)\n",
    "num_epochs = int(num_epochs)"
   ]
  },
  {
   "cell_type": "code",
   "execution_count": 15,
   "id": "5e19f18a",
   "metadata": {},
   "outputs": [],
   "source": [
    "class GRUCell(nn.Module) :\n",
    "    def __init__(self, input_size, hidden_size, bias=True) :\n",
    "        super(GRUCell, self).__init__()\n",
    "        self.input_size = input_size\n",
    "        self.hidden_size = hidden_size\n",
    "        self.bias = bias\n",
    "        self.x2h = nn.Linear(input_size, 3 * hidden_size, bias=bias)\n",
    "        self.h2h = nn.Linear(hidden_size, 3*hidden_size, bias=bias)\n",
    "        self.reset_parameters()\n",
    "        \n",
    "    def reset_parameters(self) :\n",
    "        std = 1.0 / math.sqrt(self.hidden_size)\n",
    "        for w in self.parameters() : \n",
    "            w.data.uniform_(-std, std)\n",
    "            \n",
    "    def forward(self, x, hidden) : \n",
    "        x = x.view(-1, x.size(1))\n",
    "        \n",
    "        gate_x = self.x2h(x)\n",
    "        gate_h = self.h2h(hidden)\n",
    "        \n",
    "        gate_x = gate_x.squeeze()\n",
    "        gate_h = gate_h.squeeze()\n",
    "        \n",
    "        i_r, i_i, i_n = gate_x.chunk(3, 1)\n",
    "        h_r, h_i, h_n = gate_h.chunk(3, 1)\n",
    "        \n",
    "        resetgate = F.sigmoid(i_r + h_r)\n",
    "        inputgate = F.sigmoid(i_i + h_i)\n",
    "        newgate = F.tanh(i_n + (resetgate * h_n))\n",
    "        \n",
    "        hy = newgate + inputgate * (hidden - newgate)\n",
    "        return hy"
   ]
  },
  {
   "cell_type": "code",
   "execution_count": 19,
   "id": "4071ac5a",
   "metadata": {},
   "outputs": [],
   "source": [
    "class GRUModel(nn.Module) :\n",
    "    def __init__(self, input_dim, hidden_dim, layer_dim, output_dim, bias=True) :\n",
    "        super(GRUModel, self).__init__()\n",
    "        self.hidden_dim = hidden_dim\n",
    "        self.layer_dim = layer_dim\n",
    "        self.gru_cell = GRUCell(input_dim, hidden_dim, layer_dim)\n",
    "        self.fc = nn.Linear(hidden_dim, output_dim)\n",
    "        \n",
    "    def forward(self, x) :\n",
    "        if torch.cuda.is_available() :\n",
    "            h0 = Variable(torch.zeros(self.layer_dim, x.size(0), self.hidden_dim).cuda())\n",
    "        else :\n",
    "            h0 = Variable(torch.zeros(self.layer_dim, x.size(0), self.hidden_dim))\n",
    "            \n",
    "        outs = []\n",
    "        hn = h0[0, :, :]\n",
    "        \n",
    "        for seq in range(x.size(1)) : \n",
    "            hn = self.gru_cell(x[:, seq, :], hn)\n",
    "            outs.append(hn)\n",
    "        out = outs[-1].squeeze()\n",
    "        out = self.fc(out)\n",
    "        return out"
   ]
  },
  {
   "cell_type": "code",
   "execution_count": 20,
   "id": "b103d72d",
   "metadata": {},
   "outputs": [],
   "source": [
    "# 옵티마이저, 손실 함수\n",
    "input_dim = 28\n",
    "hidden_dim = 128\n",
    "layer_dim = 1\n",
    "output_dim = 10\n",
    "\n",
    "model = GRUModel(input_dim, hidden_dim, layer_dim, output_dim)\n",
    "\n",
    "if torch.cuda.is_available() :\n",
    "    model.cuda()\n",
    "    \n",
    "criterion = nn.CrossEntropyLoss()\n",
    "learning_rate = 0.1\n",
    "\n",
    "optimizer = torch.optim.SGD(model.parameters(), lr=learning_rate)"
   ]
  },
  {
   "cell_type": "code",
   "execution_count": 21,
   "id": "1ed6d5a4",
   "metadata": {},
   "outputs": [
    {
     "name": "stdout",
     "output_type": "stream",
     "text": [
      "Iteration : 500. Loss : 1.367768406867981. Accuracy : 54.65999984741211\n",
      "Iteration : 1000. Loss : 0.6918953061103821. Accuracy : 79.66999816894531\n",
      "Iteration : 1500. Loss : 0.28622865676879883. Accuracy : 89.91999816894531\n",
      "Iteration : 2000. Loss : 0.32157325744628906. Accuracy : 91.16999816894531\n",
      "Iteration : 2500. Loss : 0.18764743208885193. Accuracy : 93.5199966430664\n",
      "Iteration : 3000. Loss : 0.07681035995483398. Accuracy : 95.44000244140625\n",
      "Iteration : 3500. Loss : 0.08541690558195114. Accuracy : 96.36000061035156\n",
      "Iteration : 4000. Loss : 0.059621769934892654. Accuracy : 96.69999694824219\n",
      "Iteration : 4500. Loss : 0.11129660904407501. Accuracy : 96.81999969482422\n",
      "Iteration : 5000. Loss : 0.1259971410036087. Accuracy : 96.80999755859375\n",
      "Iteration : 5500. Loss : 0.04892083257436752. Accuracy : 97.48999786376953\n",
      "Iteration : 6000. Loss : 0.040439173579216. Accuracy : 97.73999786376953\n",
      "Iteration : 6500. Loss : 0.035291239619255066. Accuracy : 97.80999755859375\n",
      "Iteration : 7000. Loss : 0.00801979098469019. Accuracy : 97.95999908447266\n",
      "Iteration : 7500. Loss : 0.09279495477676392. Accuracy : 97.91999816894531\n",
      "Iteration : 8000. Loss : 0.00914589874446392. Accuracy : 98.0199966430664\n",
      "Iteration : 8500. Loss : 0.09974988549947739. Accuracy : 98.05000305175781\n",
      "Iteration : 9000. Loss : 0.11070778220891953. Accuracy : 98.13999938964844\n"
     ]
    }
   ],
   "source": [
    "# 학습 및 검증\n",
    "seq_dim = 28\n",
    "loss_list = []\n",
    "iter = 0\n",
    "for epoch in range(num_epochs) :\n",
    "    for i, (images, labels) in enumerate(train_loader) :\n",
    "        if torch.cuda.is_available() :\n",
    "            images = Variable(images.view(-1, seq_dim, input_dim).cuda())\n",
    "            labels = Variable(labels.cuda())\n",
    "            \n",
    "        else :\n",
    "            images = Variable(images.view(-1, seq_dim, input_dim))\n",
    "            labels = Variable(labels)\n",
    "            \n",
    "        optimizer.zero_grad()\n",
    "        outputs = model(images)\n",
    "        loss = criterion(outputs, labels)\n",
    "        \n",
    "        if torch.cuda.is_available() : \n",
    "            loss.cuda()\n",
    "            \n",
    "        loss.backward()\n",
    "        optimizer.step()\n",
    "        \n",
    "        loss_list.append(loss.item())\n",
    "        iter += 1\n",
    "        \n",
    "        if iter % 500 == 0 :\n",
    "            correct = 0\n",
    "            total = 0\n",
    "            for images, labels in valid_loader : \n",
    "                if torch.cuda.is_available() :\n",
    "                    images = Variable(images.view(-1, seq_dim, input_dim).cuda())\n",
    "                else :\n",
    "                    images = Variable(images.view(-1, seq_dim, input_dim))\n",
    "                    \n",
    "                outputs = model(images)\n",
    "                _, predicted = torch.max(outputs.data, 1)\n",
    "                total += labels.size(0)\n",
    "                \n",
    "                if torch.cuda.is_available() :\n",
    "                    correct += (predicted.cpu() == labels.cpu()).sum()\n",
    "                else :\n",
    "                    correct += (predicted == labels).sum()\n",
    "                    \n",
    "            accuracy = 100 * correct / total\n",
    "            print(f'Iteration : {iter}. Loss : {loss.item()}. Accuracy : {accuracy}')"
   ]
  },
  {
   "cell_type": "code",
   "execution_count": 22,
   "id": "466d92f7",
   "metadata": {},
   "outputs": [],
   "source": [
    "def evaluate(model, val_iter) : \n",
    "    corrects, total, total_loss = 0, 0, 0\n",
    "    model.eval()\n",
    "    for images, labels in val_iter :\n",
    "        if torch.cuda.is_available() :\n",
    "            images = Variable(images.view(-1, seq_dim, input_dim).cuda())\n",
    "        else :\n",
    "            images = Variable(images.view(-1, seq_dim, input_dim)).to(device)\n",
    "            \n",
    "        logit = model(images).to(device)\n",
    "        loss = F.cross_entropy(logit, labels, reduction='sum')\n",
    "        _, predicted = torch.max(logit.data, 1)\n",
    "        total += labels.size(0)\n",
    "        total_loss += loss.item()\n",
    "        corrects += (predicted == labels).sum()\n",
    "        \n",
    "    avg_loss = total_loss / len(val_iter.dataset)\n",
    "    avg_accuracy = corrects / total\n",
    "    return avg_loss, avg_accuracy"
   ]
  },
  {
   "cell_type": "code",
   "execution_count": 23,
   "id": "2e00785b",
   "metadata": {},
   "outputs": [
    {
     "name": "stdout",
     "output_type": "stream",
     "text": [
      "Test Loss :  0.07| Test Accuracy :  0.98\n"
     ]
    }
   ],
   "source": [
    "test_loss, test_acc = evaluate(model, test_loader)\n",
    "print(f'Test Loss : {test_loss:5.2f} | Test Accuracy : {test_acc:5.2f}')"
   ]
  },
  {
   "cell_type": "markdown",
   "id": "93441809",
   "metadata": {},
   "source": [
    "## GRU 계층 구현"
   ]
  },
  {
   "cell_type": "code",
   "execution_count": 29,
   "id": "e6665613",
   "metadata": {},
   "outputs": [],
   "source": [
    "import os\n",
    "import time\n",
    "\n",
    "import numpy as np\n",
    "import pandas as pd\n",
    "import matplotlib.pyplot as plt\n",
    "\n",
    "import torch\n",
    "import torch.nn as nn\n",
    "from torch.utils.data import TensorDataset, DataLoader\n",
    "from torch.autograd import Variable\n",
    "from tqdm import tqdm_notebook\n",
    "from sklearn.preprocessing import StandardScaler, MinMaxScaler\n",
    "from sklearn.model_selection import train_test_split"
   ]
  },
  {
   "cell_type": "code",
   "execution_count": 30,
   "id": "8bbd65ac",
   "metadata": {},
   "outputs": [
    {
     "name": "stdout",
     "output_type": "stream",
     "text": [
      "Date          object\n",
      "Open         float64\n",
      "High         float64\n",
      "Low          float64\n",
      "Close        float64\n",
      "Adj Close    float64\n",
      "Volume         int64\n",
      "dtype: object\n"
     ]
    }
   ],
   "source": [
    "device =torch.device('cuda:0' if torch.cuda.is_available() else 'cpu')\n",
    "data = pd.read_csv('../080289-main/chap07/data/SBUX.csv')\n",
    "print(data.dtypes)"
   ]
  },
  {
   "cell_type": "code",
   "execution_count": 31,
   "id": "72422a57",
   "metadata": {},
   "outputs": [],
   "source": [
    "data['Date'] = pd.to_datetime(data['Date'])\n",
    "data.set_index('Date', inplace=True)\n",
    "data['Volume'] = data['Volume'].astype(float)"
   ]
  },
  {
   "cell_type": "code",
   "execution_count": 32,
   "id": "ce2914e6",
   "metadata": {},
   "outputs": [
    {
     "name": "stdout",
     "output_type": "stream",
     "text": [
      "                  Open        High         Low       Close   Adj Close\n",
      "Date                                                                  \n",
      "2019-12-11   86.260002   86.870003   85.849998   86.589996   84.145752\n",
      "2019-12-12   88.000000   88.889999   87.540001   88.209999   85.720032\n",
      "2019-12-13   88.019997   88.790001   87.580002   88.669998   86.167046\n",
      "2019-12-16   89.139999   89.300003   88.430000   88.779999   86.273941\n",
      "2019-12-17   88.870003   88.970001   87.470001   88.129997   85.642288\n",
      "...                ...         ...         ...         ...         ...\n",
      "2020-12-04  101.349998  102.940002  101.070000  102.279999  101.442787\n",
      "2020-12-07  102.010002  102.220001  100.690002  101.410004  100.579918\n",
      "2020-12-08  100.370003  101.570000  100.010002  101.209999  100.381554\n",
      "2020-12-09  101.940002  102.209999  100.099998  100.400002   99.578186\n",
      "2020-12-10  103.510002  106.089996  102.750000  105.389999  104.527336\n",
      "\n",
      "[253 rows x 5 columns]\n",
      "                Volume\n",
      "Date                  \n",
      "2019-12-11   4921900.0\n",
      "2019-12-12  10282100.0\n",
      "2019-12-13   6714100.0\n",
      "2019-12-16   6705600.0\n",
      "2019-12-17   7296900.0\n",
      "...                ...\n",
      "2020-12-04   6952700.0\n",
      "2020-12-07   4514800.0\n",
      "2020-12-08   3911300.0\n",
      "2020-12-09   6629900.0\n",
      "2020-12-10  12939200.0\n",
      "\n",
      "[253 rows x 1 columns]\n"
     ]
    }
   ],
   "source": [
    "X = data.iloc[:, :-1]\n",
    "y = data.iloc[:, 5:6]\n",
    "print(X)\n",
    "print(y)"
   ]
  },
  {
   "cell_type": "code",
   "execution_count": 33,
   "id": "601a0f4d",
   "metadata": {},
   "outputs": [
    {
     "name": "stdout",
     "output_type": "stream",
     "text": [
      "Training Shape : (200, 5) (200, 1)\n",
      "Testing Shape : (53, 5) (53, 1)\n"
     ]
    }
   ],
   "source": [
    "ms = MinMaxScaler()\n",
    "ss = StandardScaler()\n",
    "\n",
    "X_ss = ss.fit_transform(X)\n",
    "y_ms = ms.fit_transform(y)\n",
    "\n",
    "X_train = X_ss[:200, :]\n",
    "X_test = X_ss[200:, :]\n",
    "\n",
    "y_train = y_ms[:200, :]\n",
    "y_test = y_ms[200:, :]\n",
    "\n",
    "print('Training Shape :', X_train.shape, y_train.shape)\n",
    "print('Testing Shape :', X_test.shape, y_test.shape)"
   ]
  },
  {
   "cell_type": "code",
   "execution_count": 35,
   "id": "fb91517c",
   "metadata": {},
   "outputs": [
    {
     "name": "stdout",
     "output_type": "stream",
     "text": [
      "Training Shape : (200, 5) (200, 1)\n",
      "Testing Shape : (53, 5) (53, 1)\n"
     ]
    }
   ],
   "source": [
    "X_train_tensors = Variable(torch.Tensor(X_train))\n",
    "X_test_tensors = Variable(torch.Tensor(X_test))\n",
    "\n",
    "y_train_tensors = Variable(torch.Tensor(y_train))\n",
    "y_test_tensors = Variable(torch.Tensor(y_test))\n",
    "\n",
    "X_train_tensors_f = torch.reshape(X_train_tensors, \n",
    "                                  (X_train_tensors.shape[0], 1, X_train_tensors.shape[1]))\n",
    "\n",
    "X_test_tensors_f = torch.reshape(X_test_tensors,\n",
    "                                (X_test_tensors.shape[0], 1, X_test_tensors.shape[1]))\n",
    "\n",
    "print('Training Shape :', X_train.shape, y_train.shape)\n",
    "print('Testing Shape :', X_test.shape, y_test.shape)"
   ]
  },
  {
   "cell_type": "code",
   "execution_count": 38,
   "id": "1319cef7",
   "metadata": {},
   "outputs": [],
   "source": [
    "class GRU(nn.Module) :\n",
    "    def __init__(self, num_classes, input_size, hidden_size, num_layers, seq_length) :\n",
    "        super(GRU, self).__init__()\n",
    "        self.num_classes = num_classes\n",
    "        self.num_layers = num_layers\n",
    "        self.input_size = input_size\n",
    "        self.hidden_size = hidden_size\n",
    "        self.seq_length = seq_length\n",
    "        \n",
    "        self.gru = nn.GRU(input_size=input_size,hidden_size=hidden_size,\n",
    "                         num_layers=num_layers,batch_first=True)\n",
    "        self.fc_1 = nn.Linear(hidden_size, 128)\n",
    "        self.fc = nn.Linear(128, num_classes)\n",
    "        self.relu = nn.ReLU()\n",
    "        \n",
    "    def forward(self, x) :\n",
    "        h_0 = Variable(torch.zeros(self.num_layers, x.size(0), self.hidden_size))\n",
    "        output, (hn) = self.gru(x, (h_0))\n",
    "        hn = hn.view(-1, self.hidden_size)\n",
    "        out = self.relu(hn)\n",
    "        out = self.fc_1(out)\n",
    "        out = self.relu(out)\n",
    "        out = self.fc(out)\n",
    "        return out"
   ]
  },
  {
   "cell_type": "code",
   "execution_count": 42,
   "id": "41347ccb",
   "metadata": {},
   "outputs": [],
   "source": [
    "num_epochs = 1000\n",
    "learning_rate = 0.0001\n",
    "\n",
    "input_size=5\n",
    "hidden_size=2\n",
    "num_layers=1\n",
    "\n",
    "num_classes=1\n",
    "model=GRU(num_classes,input_size,hidden_size,num_layers,X_train_tensors_f.shape[1])\n",
    "\n",
    "criterion = torch.nn.MSELoss()\n",
    "optimizer = torch.optim.Adam(model.parameters(), lr=learning_rate)"
   ]
  },
  {
   "cell_type": "code",
   "execution_count": 43,
   "id": "66c2ce80",
   "metadata": {},
   "outputs": [
    {
     "name": "stdout",
     "output_type": "stream",
     "text": [
      "Epoch : 0, loss : 0.25149\n",
      "Epoch : 100, loss : 0.08289\n",
      "Epoch : 200, loss : 0.04005\n",
      "Epoch : 300, loss : 0.03468\n",
      "Epoch : 400, loss : 0.03412\n",
      "Epoch : 500, loss : 0.03383\n",
      "Epoch : 600, loss : 0.03354\n",
      "Epoch : 700, loss : 0.03326\n",
      "Epoch : 800, loss : 0.03295\n",
      "Epoch : 900, loss : 0.03263\n"
     ]
    }
   ],
   "source": [
    "for epoch in range(num_epochs) :\n",
    "    outputs = model.forward(X_train_tensors_f)\n",
    "    optimizer.zero_grad()\n",
    "    loss = criterion(outputs, y_train_tensors)\n",
    "    loss.backward()\n",
    "    \n",
    "    optimizer.step()\n",
    "    if epoch % 100 == 0 :\n",
    "        print(f'Epoch : {epoch}, loss : {loss.item():1.5f}')"
   ]
  },
  {
   "cell_type": "code",
   "execution_count": 45,
   "id": "d61f82b9",
   "metadata": {},
   "outputs": [],
   "source": [
    "df_x_ss = ss.transform(data.iloc[:, :-1])\n",
    "df_y_ms = ms.transform(data.iloc[:, -1:])\n",
    "\n",
    "df_x_ss = Variable(torch.Tensor(df_x_ss))\n",
    "df_y_ms = Variable(torch.Tensor(df_y_ms))\n",
    "df_x_ss = torch.reshape(df_x_ss, (df_x_ss.shape[0], 1, df_x_ss.shape[1]))"
   ]
  },
  {
   "cell_type": "code",
   "execution_count": 46,
   "id": "bffd5a17",
   "metadata": {},
   "outputs": [
    {
     "data": {
      "image/png": "[encoded data removed]",
      "text/plain": [
       "<Figure size 720x432 with 1 Axes>"
      ]
     },
     "metadata": {
      "needs_background": "light"
     },
     "output_type": "display_data"
    }
   ],
   "source": [
    "train_predict = model(df_x_ss)\n",
    "predicted = train_predict.data.numpy()\n",
    "\n",
    "label_y = df_y_ms.data.numpy()\n",
    "\n",
    "predicted = ms.inverse_transform(predicted)\n",
    "label_y = ms.inverse_transform(label_y)\n",
    "plt.figure(figsize=(10, 6))\n",
    "plt.axvline(x=200, c='r', linestyle='--')\n",
    "\n",
    "plt.plot(label_y, label='Actual Data')\n",
    "plt.plot(predicted, label='Predicted Data')\n",
    "plt.title('Time-series Prediction')\n",
    "plt.legend()\n",
    "plt.show()"
   ]
  },
  {
   "cell_type": "code",
   "execution_count": null,
   "id": "2485e779",
   "metadata": {},
   "outputs": [],
   "source": []
  }
 ],
 "metadata": {
  "kernelspec": {
   "display_name": "yeseul",
   "language": "python",
   "name": "yeseul"
  },
  "language_info": {
   "codemirror_mode": {
    "name": "ipython",
    "version": 3
   },
   "file_extension": ".py",
   "mimetype": "text/x-python",
   "name": "python",
   "nbconvert_exporter": "python",
   "pygments_lexer": "ipython3",
   "version": "3.7.10"
  },
  "toc": {
   "base_numbering": 1,
   "nav_menu": {},
   "number_sections": false,
   "sideBar": true,
   "skip_h1_title": false,
   "title_cell": "Table of Contents",
   "title_sidebar": "Contents",
   "toc_cell": false,
   "toc_position": {},
   "toc_section_display": true,
   "toc_window_display": true
  }
 },
 "nbformat": 4,
 "nbformat_minor": 5
}
