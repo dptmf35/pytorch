{
 "cells": [
  {
   "cell_type": "markdown",
   "id": "4cab212d",
   "metadata": {},
   "source": [
    "# LSTM\n",
    "> 기울기 소멸 문제를 해결하기 위해 망각 게이트, 입력 게이트, 출력 게이트라는 새로운 요소를 은닉층의 각 뉴런에 추가"
   ]
  },
  {
   "cell_type": "markdown",
   "id": "b63c02a1",
   "metadata": {},
   "source": [
    "- `망각 게이트(forget gate)` : 과거의 정보를 어느정도 기억할지 결정함. 과거 정보와 현재 데이터를 입력받아 시그모이드를 취한 후,\n",
    "    그 값을 과거 정보에 곱해 줌. 시그모이드의 출력이 0이면 과거 정보를 버리고, 1이면 과거 정보를 온전히 보존함.\n",
    "0~1 사이 출력 값을 가지는 h_t-1과 x_t을 입력 값으로 받음. 이 때 x_t는 새로운 입력 값이고, h_t-1은 이전 은닉층에서 입력되는 값임.\n",
    "즉, h_t-1과 x_t를 이용하여 이전 상태 정보를 현 메모리에 반영할지 결정하는 역할을 함\n",
    "\n",
    "- `입력 게이트(input gate)` : 현재 정보를 기억하기 위해 만들어짐. 과거 정보와 현재 데이터를 입력받아 시그모이드와 하이퍼볼릭 탄젠트 함수를 기반으로 현 정보에 대한 보존량을 결정함. 즉, 현 메모리에 새로운 정보를 반영할지 결정하는 역할을 함 \n",
    "    * 계산한 값이 1이면 입력 x_t가 들어올 수 있도록 허용 \n",
    "    * 계산한 값이 0이면 차단\n",
    "    \n",
    "- `셀` : 각 단계에 대한 은닉 노드(hidden node)를 메모리 셀이라고 함. 총합을 사용하여 셀값을 반영하며, 이것으로 기울기 소멸 문제가 해결됨. 망각 게이트와 입력 게이트의 이전 단계 셀 정보를 계산하여 현재 단계의 셀 상태(cell state)를 업데이트 함. "
   ]
  },
  {
   "cell_type": "markdown",
   "id": "ea047a60",
   "metadata": {},
   "source": [
    "LSTM은 셀을 통해 역전파를 수행하기 때문에, 중단 없는 기울기(uninterrupted gradient flow)라고도 함.\n",
    "최종 오차는 모든 노드에 전파되는데, 이 때 셀을 통해서 중단 없이 전파됨."
   ]
  },
  {
   "cell_type": "markdown",
   "id": "c9088933",
   "metadata": {},
   "source": [
    "## LSTM 셀 구현 "
   ]
  },
  {
   "cell_type": "code",
   "execution_count": 2,
   "id": "46d5668f",
   "metadata": {},
   "outputs": [],
   "source": [
    "import torch\n",
    "import torch.nn as nn\n",
    "import torchvision.transforms as transforms\n",
    "import torchvision.datasets as dataset\n",
    "from torch.autograd import Variable\n",
    "from torch.nn import Parameter\n",
    "from torch import Tensor\n",
    "import torch.nn.functional as F\n",
    "from torch.utils.data import DataLoader\n",
    "import math"
   ]
  },
  {
   "cell_type": "code",
   "execution_count": 3,
   "id": "dc76dff3",
   "metadata": {},
   "outputs": [],
   "source": [
    "device = torch.device('cuda:0' if torch.cuda.is_available() else 'cpu')\n",
    "cuda = True if torch.cuda.is_available() else False\n",
    "\n",
    "Tensor = torch.cuda.FloatTensor if cuda else torch.FloatTensor\n",
    "\n",
    "torch.manual_seed(125)\n",
    "if torch.cuda.is_available() : \n",
    "    torch.cuda.manual_seed_all(125)"
   ]
  },
  {
   "cell_type": "code",
   "execution_count": 4,
   "id": "09cac75b",
   "metadata": {},
   "outputs": [],
   "source": [
    "import torchvision.transforms as transforms\n",
    "\n",
    "mnist_transform = transforms.Compose([\n",
    "    transforms.ToTensor(),\n",
    "    transforms.Normalize((0.5), (1.0,))\n",
    "])"
   ]
  },
  {
   "cell_type": "code",
   "execution_count": 6,
   "id": "fb937c79",
   "metadata": {},
   "outputs": [],
   "source": [
    "# download dataset\n",
    "from torchvision.datasets import MNIST\n",
    "\n",
    "download_root = '../080289-main/chap07/MNIST_DATASET'\n",
    "\n",
    "train_dataset = MNIST(download_root, transform=mnist_transform, \n",
    "                      train=True, download=True)\n",
    "valid_dataset = MNIST(download_root, transform=mnist_transform,\n",
    "                     train=False, download=True)\n",
    "test_dataset = MNIST(download_root, transform=mnist_transform,\n",
    "                    train=False, download=True)"
   ]
  },
  {
   "cell_type": "code",
   "execution_count": 17,
   "id": "f0151960",
   "metadata": {},
   "outputs": [],
   "source": [
    "batch_size = 64\n",
    "train_loader = DataLoader(dataset=train_dataset, \n",
    "                         batch_size=batch_size,\n",
    "                         shuffle=True)\n",
    "valid_loader = DataLoader(dataset=test_dataset, \n",
    "                         batch_size=batch_size,\n",
    "                         shuffle=True)\n",
    "test_loader = DataLoader(dataset=test_dataset, \n",
    "                         batch_size=batch_size,\n",
    "                         shuffle=True)"
   ]
  },
  {
   "cell_type": "code",
   "execution_count": 8,
   "id": "1e8bea75",
   "metadata": {},
   "outputs": [],
   "source": [
    "batch_size=100\n",
    "n_iters=6000\n",
    "num_epochs=n_iters/(len(train_dataset) / batch_size)\n",
    "num_epochs = int(num_epochs)"
   ]
  },
  {
   "cell_type": "code",
   "execution_count": 23,
   "id": "9203c4f2",
   "metadata": {},
   "outputs": [],
   "source": [
    "class LSTMCell(nn.Module) :\n",
    "    def __init__(self, input_size, hidden_size, bias=True) :\n",
    "        super(LSTMCell, self).__init__()\n",
    "        self.input_size = input_size\n",
    "        self.hidden_size = hidden_size\n",
    "        self.bias = bias\n",
    "        self.x2h = nn.Linear(input_size, 4*hidden_size, bias=bias)\n",
    "        self.h2h = nn.Linear(hidden_size, 4*hidden_size, bias=bias)\n",
    "        self.reset_parameters()\n",
    "        \n",
    "    def reset_parameters(self) :\n",
    "        std = 1.0 / math.sqrt(self.hidden_size)\n",
    "        for w in self.parameters() :\n",
    "            w.data.uniform_(-std, std)\n",
    "            \n",
    "    def forward(self, x, hidden) :\n",
    "        hx, cx = hidden\n",
    "        x = x.view(-1, x.size(1))\n",
    "        \n",
    "        gates = self.x2h(x) + self.h2h(hx)\n",
    "        gates = gates.squeeze()\n",
    "        ingate, forgetgate, cellgate, outgate = gates.chunk(4, 1)\n",
    "        \n",
    "        ingate = F.sigmoid(ingate)\n",
    "        forgetgate = F.sigmoid(forgetgate)\n",
    "        cellgate = F.tanh(cellgate)\n",
    "        outgate = F.sigmoid(outgate)\n",
    "        \n",
    "        cy = torch.mul(cx, forgetgate) + torch.mul(ingate, cellgate)\n",
    "        hy = torch.mul(outgate, F.tanh(cy))\n",
    "        \n",
    "        return (hy, cy)"
   ]
  },
  {
   "cell_type": "code",
   "execution_count": 27,
   "id": "3758817c",
   "metadata": {},
   "outputs": [],
   "source": [
    "class LSTMModel(nn.Module) :\n",
    "    def __init__(self, input_dim, hidden_dim, layer_dim, output_dim, bias=True) :\n",
    "        super(LSTMModel, self).__init__()\n",
    "        self.hidden_dim = hidden_dim\n",
    "        \n",
    "        self.layer_dim = layer_dim\n",
    "        self.lstm = LSTMCell(input_dim, hidden_dim, layer_dim)\n",
    "        self.fc = nn.Linear(hidden_dim, output_dim)\n",
    "        \n",
    "    def forward(self, x) :\n",
    "        if torch.cuda.is_available() :\n",
    "            h0 = Variable(torch.zeros(self.layer_dim, x.size(0), self.hidden_dim).cuda())\n",
    "        else :\n",
    "            h0 = Variable(torch.zeros(self.layer_dim, x.size(0), self.hidden_dim))\n",
    "            \n",
    "        if torch.cuda.is_available() :\n",
    "            c0 = Variable(torch.zeros(self.layer_dim, x.size(0), self.hidden_dim).cuda())\n",
    "        else :\n",
    "            c0 = Variable(torch.zeros(self.layer_dim, x.size(0), hidden_dim))\n",
    "            \n",
    "        outs = []\n",
    "        cn =  c0[0,:,:]\n",
    "        hn = h0[0,:,:]\n",
    "        \n",
    "        for seq in range(x.size(1)) :\n",
    "            hn, cn = self.lstm(x[:, seq, :], (hn, cn))\n",
    "            outs.append(hn)\n",
    "            \n",
    "        out = outs[-1].squeeze()\n",
    "        out = self.fc(out)\n",
    "        return out"
   ]
  },
  {
   "cell_type": "code",
   "execution_count": 28,
   "id": "9bf30ec3",
   "metadata": {},
   "outputs": [],
   "source": [
    "input_dim=28\n",
    "hidden_dim=128\n",
    "layer_dim=1\n",
    "output_dim=18\n",
    "\n",
    "model =  LSTMModel(input_dim, hidden_dim, layer_dim, output_dim) \n",
    "if torch.cuda.is_available() :\n",
    "    model.cuda()\n",
    "    \n",
    "criterion = nn.CrossEntropyLoss()\n",
    "learning_rate =0.1\n",
    "optimizer = torch.optim.SGD(model.parameters(), lr=learning_rate)"
   ]
  },
  {
   "cell_type": "code",
   "execution_count": 30,
   "id": "a37dcbc7",
   "metadata": {},
   "outputs": [
    {
     "name": "stdout",
     "output_type": "stream",
     "text": [
      "Iteration : 500 Loss : 2.27104115486145 Accuracy : 18.56999969482422\n",
      "Iteration : 1000 Loss : 0.8322799205780029 Accuracy : 65.72000122070312\n",
      "Iteration : 1500 Loss : 0.2945481836795807 Accuracy : 89.69999694824219\n",
      "Iteration : 2000 Loss : 0.28016775846481323 Accuracy : 93.30999755859375\n",
      "Iteration : 2500 Loss : 0.14792363345623016 Accuracy : 95.33000183105469\n",
      "Iteration : 3000 Loss : 0.17902137339115143 Accuracy : 94.63999938964844\n",
      "Iteration : 3500 Loss : 0.16559305787086487 Accuracy : 96.2300033569336\n",
      "Iteration : 4000 Loss : 0.22431312501430511 Accuracy : 96.5999984741211\n",
      "Iteration : 4500 Loss : 0.21425095200538635 Accuracy : 97.08000183105469\n",
      "Iteration : 5000 Loss : 0.0755324736237526 Accuracy : 96.70999908447266\n",
      "Iteration : 5500 Loss : 0.030156712979078293 Accuracy : 97.79000091552734\n",
      "Iteration : 6000 Loss : 0.02447686530649662 Accuracy : 97.61000061035156\n",
      "Iteration : 6500 Loss : 0.06343606859445572 Accuracy : 97.41999816894531\n",
      "Iteration : 7000 Loss : 0.013317516073584557 Accuracy : 97.94999694824219\n",
      "Iteration : 7500 Loss : 0.0874304473400116 Accuracy : 97.54000091552734\n",
      "Iteration : 8000 Loss : 0.06979962438344955 Accuracy : 97.66000366210938\n",
      "Iteration : 8500 Loss : 0.060368623584508896 Accuracy : 98.0\n",
      "Iteration : 9000 Loss : 0.012498989701271057 Accuracy : 97.76000213623047\n"
     ]
    }
   ],
   "source": [
    "seq_dim=28\n",
    "loss_list = []\n",
    "iter = 0\n",
    "for epoch in range(num_epochs) :\n",
    "    for i, (images ,labels) in enumerate(train_loader) :\n",
    "        if torch.cuda.is_available() :\n",
    "            images = Variable(images.view(-1, seq_dim, input_dim).cuda())\n",
    "            labels = Variable(labels.cuda())\n",
    "        \n",
    "        else :\n",
    "            images = Variable(images.view(-1, seq_dim, input_dim))\n",
    "            labels = Variable(labels)\n",
    "            \n",
    "        optimizer.zero_grad()\n",
    "        outputs = model(images)\n",
    "        loss = criterion(outputs, labels)\n",
    "        \n",
    "        if torch.cuda.is_available() :\n",
    "            loss.cuda()\n",
    "            \n",
    "        loss.backward()\n",
    "        optimizer.step()\n",
    "        loss_list.append(loss.item())\n",
    "        iter += 1\n",
    "        \n",
    "        \n",
    "        if iter % 500 == 0 :\n",
    "            correct = 0\n",
    "            total = 0\n",
    "            \n",
    "            for images, labels in valid_loader :\n",
    "                \n",
    "                if torch.cuda.is_available() :\n",
    "                    images = Variable(images.view(-1, seq_dim, input_dim).cuda())\n",
    "                else :\n",
    "                    images = Variable(images.view(-1, seq_dim, input_dim))\n",
    "                    \n",
    "                outputs = model(images)\n",
    "                _, predicted = torch.max(outputs.data, 1)\n",
    "                \n",
    "                total += labels.size(0)\n",
    "                if torch.cuda.is_available() : \n",
    "                    correct += (predicted.cpu() == labels.cpu()).sum()\n",
    "                    \n",
    "                else :\n",
    "                    correct += (predicted == labels).sum()\n",
    "                    \n",
    "            accuracy = 100 * correct / total\n",
    "            print(f'Iteration : {iter} Loss : {loss.item()} Accuracy : {accuracy}')\n",
    "            "
   ]
  },
  {
   "cell_type": "code",
   "execution_count": 32,
   "id": "07f6a02a",
   "metadata": {},
   "outputs": [],
   "source": [
    "def evaluate(model, val_iter) :\n",
    "    corrects, total, total_loss = 0, 0, 0\n",
    "    model.eval()\n",
    "    for images, labels in val_iter :\n",
    "        if torch.cuda.is_available() :\n",
    "            images = Variable(images.view(-1, seq_dim, input_dim).cuda())\n",
    "        else :\n",
    "            images = Variable(images.view(-1, seq_dim, input_dim).to(device))\n",
    "            \n",
    "        logit = model(images).to(device)\n",
    "        loss = F.cross_entropy(logit, labels, reduction='sum')\n",
    "        _, predicted = torch.max(logit.data, 1)\n",
    "        total += labels.size(0)\n",
    "        total_loss += loss.item()\n",
    "        corrects += (predicted == labels).sum()\n",
    "        \n",
    "    avg_loss = total_loss / len(val_iter.dataset)\n",
    "    avg_accuracy = corrects / total\n",
    "    return avg_loss, avg_accuracy"
   ]
  },
  {
   "cell_type": "code",
   "execution_count": 33,
   "id": "699157dd",
   "metadata": {},
   "outputs": [
    {
     "name": "stdout",
     "output_type": "stream",
     "text": [
      "Test Loss :  0.07 | Test Accuracy :  0.98\n"
     ]
    }
   ],
   "source": [
    "test_loss, test_acc = evaluate(model, test_loader)\n",
    "print(f'Test Loss : {test_loss:5.2f} | Test Accuracy : {test_acc:5.2f}')"
   ]
  },
  {
   "cell_type": "code",
   "execution_count": null,
   "id": "45d14968",
   "metadata": {},
   "outputs": [],
   "source": []
  },
  {
   "cell_type": "markdown",
   "id": "2f2410bd",
   "metadata": {},
   "source": [
    "---"
   ]
  },
  {
   "cell_type": "code",
   "execution_count": 34,
   "id": "de1931ae",
   "metadata": {},
   "outputs": [],
   "source": [
    "import os\n",
    "import time\n",
    "\n",
    "import numpy as np\n",
    "import pandas as pd\n",
    "import matplotlib.pyplot as plt\n",
    "\n",
    "import torch\n",
    "import torch.nn as nn\n",
    "from torch.utils.data import TensorDataset, DataLoader\n",
    "from torch.autograd import Variable\n",
    "from tqdm import tqdm_notebook\n",
    "from sklearn.preprocessing import StandardScaler, MinMaxScaler\n",
    "from sklearn.model_selection import train_test_split"
   ]
  },
  {
   "cell_type": "code",
   "execution_count": 35,
   "id": "09e84ac8",
   "metadata": {},
   "outputs": [],
   "source": [
    "device = torch.device('cuda:0' if torch.cuda.is_available() else 'cpu')"
   ]
  },
  {
   "cell_type": "code",
   "execution_count": 36,
   "id": "bfcf8182",
   "metadata": {},
   "outputs": [
    {
     "name": "stdout",
     "output_type": "stream",
     "text": [
      "Date          object\n",
      "Open         float64\n",
      "High         float64\n",
      "Low          float64\n",
      "Close        float64\n",
      "Adj Close    float64\n",
      "Volume         int64\n",
      "dtype: object\n"
     ]
    }
   ],
   "source": [
    "data = pd.read_csv('../080289-main/chap07/data/SBUX.csv')\n",
    "print(data.dtypes)"
   ]
  },
  {
   "cell_type": "code",
   "execution_count": 38,
   "id": "389d9f21",
   "metadata": {},
   "outputs": [
    {
     "data": {
      "text/html": [
       "<div>\n",
       "<style scoped>\n",
       "    .dataframe tbody tr th:only-of-type {\n",
       "        vertical-align: middle;\n",
       "    }\n",
       "\n",
       "    .dataframe tbody tr th {\n",
       "        vertical-align: top;\n",
       "    }\n",
       "\n",
       "    .dataframe thead th {\n",
       "        text-align: right;\n",
       "    }\n",
       "</style>\n",
       "<table border=\"1\" class=\"dataframe\">\n",
       "  <thead>\n",
       "    <tr style=\"text-align: right;\">\n",
       "      <th></th>\n",
       "      <th>Date</th>\n",
       "      <th>Open</th>\n",
       "      <th>High</th>\n",
       "      <th>Low</th>\n",
       "      <th>Close</th>\n",
       "      <th>Adj Close</th>\n",
       "      <th>Volume</th>\n",
       "    </tr>\n",
       "  </thead>\n",
       "  <tbody>\n",
       "    <tr>\n",
       "      <th>0</th>\n",
       "      <td>2019-12-11</td>\n",
       "      <td>86.260002</td>\n",
       "      <td>86.870003</td>\n",
       "      <td>85.849998</td>\n",
       "      <td>86.589996</td>\n",
       "      <td>84.145752</td>\n",
       "      <td>4921900</td>\n",
       "    </tr>\n",
       "    <tr>\n",
       "      <th>1</th>\n",
       "      <td>2019-12-12</td>\n",
       "      <td>88.000000</td>\n",
       "      <td>88.889999</td>\n",
       "      <td>87.540001</td>\n",
       "      <td>88.209999</td>\n",
       "      <td>85.720032</td>\n",
       "      <td>10282100</td>\n",
       "    </tr>\n",
       "    <tr>\n",
       "      <th>2</th>\n",
       "      <td>2019-12-13</td>\n",
       "      <td>88.019997</td>\n",
       "      <td>88.790001</td>\n",
       "      <td>87.580002</td>\n",
       "      <td>88.669998</td>\n",
       "      <td>86.167046</td>\n",
       "      <td>6714100</td>\n",
       "    </tr>\n",
       "    <tr>\n",
       "      <th>3</th>\n",
       "      <td>2019-12-16</td>\n",
       "      <td>89.139999</td>\n",
       "      <td>89.300003</td>\n",
       "      <td>88.430000</td>\n",
       "      <td>88.779999</td>\n",
       "      <td>86.273941</td>\n",
       "      <td>6705600</td>\n",
       "    </tr>\n",
       "    <tr>\n",
       "      <th>4</th>\n",
       "      <td>2019-12-17</td>\n",
       "      <td>88.870003</td>\n",
       "      <td>88.970001</td>\n",
       "      <td>87.470001</td>\n",
       "      <td>88.129997</td>\n",
       "      <td>85.642288</td>\n",
       "      <td>7296900</td>\n",
       "    </tr>\n",
       "    <tr>\n",
       "      <th>...</th>\n",
       "      <td>...</td>\n",
       "      <td>...</td>\n",
       "      <td>...</td>\n",
       "      <td>...</td>\n",
       "      <td>...</td>\n",
       "      <td>...</td>\n",
       "      <td>...</td>\n",
       "    </tr>\n",
       "    <tr>\n",
       "      <th>248</th>\n",
       "      <td>2020-12-04</td>\n",
       "      <td>101.349998</td>\n",
       "      <td>102.940002</td>\n",
       "      <td>101.070000</td>\n",
       "      <td>102.279999</td>\n",
       "      <td>101.442787</td>\n",
       "      <td>6952700</td>\n",
       "    </tr>\n",
       "    <tr>\n",
       "      <th>249</th>\n",
       "      <td>2020-12-07</td>\n",
       "      <td>102.010002</td>\n",
       "      <td>102.220001</td>\n",
       "      <td>100.690002</td>\n",
       "      <td>101.410004</td>\n",
       "      <td>100.579918</td>\n",
       "      <td>4514800</td>\n",
       "    </tr>\n",
       "    <tr>\n",
       "      <th>250</th>\n",
       "      <td>2020-12-08</td>\n",
       "      <td>100.370003</td>\n",
       "      <td>101.570000</td>\n",
       "      <td>100.010002</td>\n",
       "      <td>101.209999</td>\n",
       "      <td>100.381554</td>\n",
       "      <td>3911300</td>\n",
       "    </tr>\n",
       "    <tr>\n",
       "      <th>251</th>\n",
       "      <td>2020-12-09</td>\n",
       "      <td>101.940002</td>\n",
       "      <td>102.209999</td>\n",
       "      <td>100.099998</td>\n",
       "      <td>100.400002</td>\n",
       "      <td>99.578186</td>\n",
       "      <td>6629900</td>\n",
       "    </tr>\n",
       "    <tr>\n",
       "      <th>252</th>\n",
       "      <td>2020-12-10</td>\n",
       "      <td>103.510002</td>\n",
       "      <td>106.089996</td>\n",
       "      <td>102.750000</td>\n",
       "      <td>105.389999</td>\n",
       "      <td>104.527336</td>\n",
       "      <td>12939200</td>\n",
       "    </tr>\n",
       "  </tbody>\n",
       "</table>\n",
       "<p>253 rows × 7 columns</p>\n",
       "</div>"
      ],
      "text/plain": [
       "           Date        Open        High         Low       Close   Adj Close  \\\n",
       "0    2019-12-11   86.260002   86.870003   85.849998   86.589996   84.145752   \n",
       "1    2019-12-12   88.000000   88.889999   87.540001   88.209999   85.720032   \n",
       "2    2019-12-13   88.019997   88.790001   87.580002   88.669998   86.167046   \n",
       "3    2019-12-16   89.139999   89.300003   88.430000   88.779999   86.273941   \n",
       "4    2019-12-17   88.870003   88.970001   87.470001   88.129997   85.642288   \n",
       "..          ...         ...         ...         ...         ...         ...   \n",
       "248  2020-12-04  101.349998  102.940002  101.070000  102.279999  101.442787   \n",
       "249  2020-12-07  102.010002  102.220001  100.690002  101.410004  100.579918   \n",
       "250  2020-12-08  100.370003  101.570000  100.010002  101.209999  100.381554   \n",
       "251  2020-12-09  101.940002  102.209999  100.099998  100.400002   99.578186   \n",
       "252  2020-12-10  103.510002  106.089996  102.750000  105.389999  104.527336   \n",
       "\n",
       "       Volume  \n",
       "0     4921900  \n",
       "1    10282100  \n",
       "2     6714100  \n",
       "3     6705600  \n",
       "4     7296900  \n",
       "..        ...  \n",
       "248   6952700  \n",
       "249   4514800  \n",
       "250   3911300  \n",
       "251   6629900  \n",
       "252  12939200  \n",
       "\n",
       "[253 rows x 7 columns]"
      ]
     },
     "execution_count": 38,
     "metadata": {},
     "output_type": "execute_result"
    }
   ],
   "source": [
    "data"
   ]
  },
  {
   "cell_type": "code",
   "execution_count": 40,
   "id": "a8637346",
   "metadata": {},
   "outputs": [],
   "source": [
    "data['Date'] = pd.to_datetime(data['Date'])\n",
    "data.set_index('Date', inplace=True)\n",
    "data['Volume'] = data['Volume'].astype(float)"
   ]
  },
  {
   "cell_type": "code",
   "execution_count": 41,
   "id": "b056b9f1",
   "metadata": {},
   "outputs": [
    {
     "name": "stdout",
     "output_type": "stream",
     "text": [
      "                  Open        High         Low       Close   Adj Close\n",
      "Date                                                                  \n",
      "2019-12-11   86.260002   86.870003   85.849998   86.589996   84.145752\n",
      "2019-12-12   88.000000   88.889999   87.540001   88.209999   85.720032\n",
      "2019-12-13   88.019997   88.790001   87.580002   88.669998   86.167046\n",
      "2019-12-16   89.139999   89.300003   88.430000   88.779999   86.273941\n",
      "2019-12-17   88.870003   88.970001   87.470001   88.129997   85.642288\n",
      "...                ...         ...         ...         ...         ...\n",
      "2020-12-04  101.349998  102.940002  101.070000  102.279999  101.442787\n",
      "2020-12-07  102.010002  102.220001  100.690002  101.410004  100.579918\n",
      "2020-12-08  100.370003  101.570000  100.010002  101.209999  100.381554\n",
      "2020-12-09  101.940002  102.209999  100.099998  100.400002   99.578186\n",
      "2020-12-10  103.510002  106.089996  102.750000  105.389999  104.527336\n",
      "\n",
      "[253 rows x 5 columns]\n",
      "                Volume\n",
      "Date                  \n",
      "2019-12-11   4921900.0\n",
      "2019-12-12  10282100.0\n",
      "2019-12-13   6714100.0\n",
      "2019-12-16   6705600.0\n",
      "2019-12-17   7296900.0\n",
      "...                ...\n",
      "2020-12-04   6952700.0\n",
      "2020-12-07   4514800.0\n",
      "2020-12-08   3911300.0\n",
      "2020-12-09   6629900.0\n",
      "2020-12-10  12939200.0\n",
      "\n",
      "[253 rows x 1 columns]\n"
     ]
    }
   ],
   "source": [
    "X = data.iloc[:, :-1]\n",
    "y = data.iloc[:, 5:6]\n",
    "print(X)\n",
    "print(y)"
   ]
  },
  {
   "cell_type": "code",
   "execution_count": 44,
   "id": "8be0b7d7",
   "metadata": {},
   "outputs": [
    {
     "name": "stdout",
     "output_type": "stream",
     "text": [
      "Training Shape : (200, 5) (200, 1)\n",
      "Testing Shape : (53, 5) (53, 1)\n"
     ]
    }
   ],
   "source": [
    "ms = MinMaxScaler()\n",
    "ss = StandardScaler()\n",
    "\n",
    "X_ss = ss.fit_transform(X)\n",
    "y_ms = ms.fit_transform(y)\n",
    "\n",
    "X_train = X_ss[:200, :]\n",
    "X_test = X_ss[200:, :]\n",
    "\n",
    "y_train = y_ms[:200, :]\n",
    "y_test = y_ms[200:, :]\n",
    "\n",
    "print('Training Shape :', X_train.shape, y_train.shape)\n",
    "print('Testing Shape :', X_test.shape, y_test.shape)"
   ]
  },
  {
   "cell_type": "code",
   "execution_count": 46,
   "id": "3e39d82c",
   "metadata": {},
   "outputs": [
    {
     "name": "stdout",
     "output_type": "stream",
     "text": [
      "Training Shape : torch.Size([200, 1, 5]) torch.Size([200, 1])\n",
      "Testing Shape : torch.Size([53, 1, 5]) torch.Size([53, 1])\n"
     ]
    }
   ],
   "source": [
    "# 데이터셋 형태, 크기 조정\n",
    "X_train_tensors = Variable(torch.Tensor(X_train))\n",
    "X_test_tensors = Variable(torch.Tensor(X_test))\n",
    "\n",
    "y_train_tensors = Variable(torch.Tensor(y_train))\n",
    "y_test_tensors = Variable(torch.Tensor(y_test))\n",
    "\n",
    "X_train_tensors_f = torch.reshape(X_train_tensors, (X_train_tensors.shape[0],\n",
    "                                                  1, X_train_tensors.shape[1]))\n",
    "X_test_tensors_f = torch.reshape(X_test_tensors, (X_test_tensors.shape[0],\n",
    "                                                 1, X_test_tensors.shape[1]))\n",
    "\n",
    "print('Training Shape :', X_train_tensors_f.shape, y_train_tensors.shape)\n",
    "print('Testing Shape :', X_test_tensors_f.shape, y_test_tensors.shape)"
   ]
  },
  {
   "cell_type": "code",
   "execution_count": 51,
   "id": "f07c90fe",
   "metadata": {},
   "outputs": [],
   "source": [
    "class LSTM(nn.Module) :\n",
    "    def __init__(self, num_classes, input_size, hidden_size, num_layers, seq_length) :\n",
    "        super(LSTM, self).__init__()\n",
    "        self.num_classes = num_classes\n",
    "        self.num_layers = num_layers\n",
    "        self.input_size = input_size\n",
    "        self.hidden_size = hidden_size\n",
    "        self.seq_length = seq_length\n",
    "        \n",
    "        self.lstm = nn.LSTM(input_size=input_size, hidden_size=hidden_size,\n",
    "                           num_layers=num_layers, batch_first=True)\n",
    "        self.fc_1 = nn.Linear(hidden_size, 128)\n",
    "        self.fc = nn.Linear(128, num_classes)\n",
    "        self.relu = nn.ReLU()\n",
    "        \n",
    "    def forward(self, x) :\n",
    "        h_0 = Variable(torch.zeros(self.num_layers, x.size(0), self.hidden_size))\n",
    "        c_0 = Variable(torch.zeros(self.num_layers, x.size(0), self.hidden_size))\n",
    "        output, (hn, cn) = self.lstm(x, (h_0, c_0))\n",
    "        hn = hn.view(-1, self.hidden_size)\n",
    "        out = self.relu(hn)\n",
    "        out = self.fc_1(out)\n",
    "        out = self.relu(out)\n",
    "        out = self.fc(out)\n",
    "        return out"
   ]
  },
  {
   "cell_type": "code",
   "execution_count": 52,
   "id": "8032d829",
   "metadata": {},
   "outputs": [],
   "source": [
    "# 변수값 설정\n",
    "num_epochs = 1000\n",
    "lr = 0.0001\n",
    "\n",
    "input_size=5\n",
    "hidden_size=2\n",
    "num_layers=1\n",
    "\n",
    "num_classes=1\n",
    "model = LSTM(num_classes, input_size, hidden_size, num_layers, X_train_tensors_f.shape[1])\n",
    "\n",
    "criterion = torch.nn.MSELoss()\n",
    "optimizer = torch.optim.Adam(model.parameters(), lr=learning_rate)"
   ]
  },
  {
   "cell_type": "code",
   "execution_count": 53,
   "id": "43a1d792",
   "metadata": {},
   "outputs": [
    {
     "name": "stdout",
     "output_type": "stream",
     "text": [
      "Epoch : 0, loss : 0.04123\n",
      "Epoch : 100, loss : 0.01430\n",
      "Epoch : 200, loss : 0.01185\n",
      "Epoch : 300, loss : 0.01165\n",
      "Epoch : 400, loss : 0.01144\n",
      "Epoch : 500, loss : 0.01119\n",
      "Epoch : 600, loss : 0.01127\n",
      "Epoch : 700, loss : 0.01121\n",
      "Epoch : 800, loss : 0.01097\n",
      "Epoch : 900, loss : 0.01112\n"
     ]
    }
   ],
   "source": [
    "for epoch in range(num_epochs) :\n",
    "    outputs = model.forward(X_train_tensors_f)\n",
    "    optimizer.zero_grad()\n",
    "    loss = criterion(outputs, y_train_tensors)\n",
    "    loss.backward()\n",
    "    \n",
    "    optimizer.step()\n",
    "    if epoch % 100 == 0 :\n",
    "        print(f'Epoch : {epoch}, loss : {loss.item():1.5f}')"
   ]
  },
  {
   "cell_type": "code",
   "execution_count": 55,
   "id": "dd99b0f0",
   "metadata": {},
   "outputs": [],
   "source": [
    "df_x_ss = ss.transform(data.iloc[:, :-1])\n",
    "df_y_ms = ms.transform(data.iloc[:, -1:])\n",
    "\n",
    "df_x_ss = Variable(torch.Tensor(df_x_ss))\n",
    "df_y_ms = Variable(torch.Tensor(df_y_ms))\n",
    "df_x_ss = torch.reshape(df_x_ss, (df_x_ss.shape[0], 1, df_x_ss.shape[1]))"
   ]
  },
  {
   "cell_type": "code",
   "execution_count": 56,
   "id": "65a3c68c",
   "metadata": {},
   "outputs": [
    {
     "data": {
      "image/png": "[encoded data removed]",
      "text/plain": [
       "<Figure size 720x432 with 1 Axes>"
      ]
     },
     "metadata": {
      "needs_background": "light"
     },
     "output_type": "display_data"
    }
   ],
   "source": [
    "train_predict = model(df_x_ss)\n",
    "predicted = train_predict.data.numpy()\n",
    "label_y = df_y_ms.data.numpy()\n",
    "\n",
    "predicted = ms.inverse_transform(predicted)\n",
    "label_y = ms.inverse_transform(label_y)\n",
    "plt.figure(figsize=(10, 6))\n",
    "plt.axvline(x=200, c='r', linestyle='--')\n",
    "\n",
    "plt.plot(label_y, label='Actual Data')\n",
    "plt.plot(predicted, label='Predicted Data')\n",
    "plt.title('Time-Series Prediction')\n",
    "plt.legend()\n",
    "plt.show()"
   ]
  },
  {
   "cell_type": "code",
   "execution_count": null,
   "id": "4f5e1585",
   "metadata": {},
   "outputs": [],
   "source": []
  }
 ],
 "metadata": {
  "kernelspec": {
   "display_name": "yeseul",
   "language": "python",
   "name": "yeseul"
  },
  "language_info": {
   "codemirror_mode": {
    "name": "ipython",
    "version": 3
   },
   "file_extension": ".py",
   "mimetype": "text/x-python",
   "name": "python",
   "nbconvert_exporter": "python",
   "pygments_lexer": "ipython3",
   "version": "3.7.10"
  },
  "toc": {
   "base_numbering": 1,
   "nav_menu": {},
   "number_sections": false,
   "sideBar": true,
   "skip_h1_title": false,
   "title_cell": "Table of Contents",
   "title_sidebar": "Contents",
   "toc_cell": false,
   "toc_position": {},
   "toc_section_display": true,
   "toc_window_display": true
  }
 },
 "nbformat": 4,
 "nbformat_minor": 5
}
