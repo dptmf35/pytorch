{
 "cells": [
  {
   "cell_type": "markdown",
   "id": "7f8e5dbf",
   "metadata": {},
   "source": [
    "# RNN "
   ]
  },
  {
   "cell_type": "code",
   "execution_count": 1,
   "id": "88b1a796",
   "metadata": {},
   "outputs": [],
   "source": [
    "# !pip install torchtext"
   ]
  },
  {
   "cell_type": "code",
   "execution_count": 1,
   "id": "4aa92ff2",
   "metadata": {},
   "outputs": [
    {
     "ename": "ImportError",
     "evalue": "DLL load failed: 지정된 프로시저를 찾을 수 없습니다.",
     "output_type": "error",
     "traceback": [
      "\u001b[1;31m---------------------------------------------------------------------------\u001b[0m",
      "\u001b[1;31mImportError\u001b[0m                               Traceback (most recent call last)",
      "\u001b[1;32m<ipython-input-1-b2d5071da42c>\u001b[0m in \u001b[0;36m<module>\u001b[1;34m\u001b[0m\n\u001b[0;32m      1\u001b[0m \u001b[1;32mimport\u001b[0m \u001b[0mtorch\u001b[0m\u001b[1;33m\u001b[0m\u001b[1;33m\u001b[0m\u001b[0m\n\u001b[1;32m----> 2\u001b[1;33m \u001b[1;32mimport\u001b[0m \u001b[0mtorchtext\u001b[0m\u001b[1;33m\u001b[0m\u001b[1;33m\u001b[0m\u001b[0m\n\u001b[0m\u001b[0;32m      3\u001b[0m \u001b[1;32mimport\u001b[0m \u001b[0mnumpy\u001b[0m \u001b[1;32mas\u001b[0m \u001b[0mnp\u001b[0m\u001b[1;33m\u001b[0m\u001b[1;33m\u001b[0m\u001b[0m\n\u001b[0;32m      4\u001b[0m \u001b[1;32mimport\u001b[0m \u001b[0mtorch\u001b[0m\u001b[1;33m.\u001b[0m\u001b[0mnn\u001b[0m \u001b[1;32mas\u001b[0m \u001b[0mnn\u001b[0m\u001b[1;33m\u001b[0m\u001b[1;33m\u001b[0m\u001b[0m\n\u001b[0;32m      5\u001b[0m \u001b[1;32mimport\u001b[0m \u001b[0mtorch\u001b[0m\u001b[1;33m.\u001b[0m\u001b[0mnn\u001b[0m\u001b[1;33m.\u001b[0m\u001b[0mfunctional\u001b[0m \u001b[1;32mas\u001b[0m \u001b[0mF\u001b[0m\u001b[1;33m\u001b[0m\u001b[1;33m\u001b[0m\u001b[0m\n",
      "\u001b[1;32m~\\anaconda3\\envs\\yeseul\\lib\\site-packages\\torchtext\\__init__.py\u001b[0m in \u001b[0;36m<module>\u001b[1;34m\u001b[0m\n\u001b[0;32m      3\u001b[0m \u001b[1;32mfrom\u001b[0m \u001b[1;33m.\u001b[0m \u001b[1;32mimport\u001b[0m \u001b[0mdatasets\u001b[0m\u001b[1;33m\u001b[0m\u001b[1;33m\u001b[0m\u001b[0m\n\u001b[0;32m      4\u001b[0m \u001b[1;32mfrom\u001b[0m \u001b[1;33m.\u001b[0m \u001b[1;32mimport\u001b[0m \u001b[0mutils\u001b[0m\u001b[1;33m\u001b[0m\u001b[1;33m\u001b[0m\u001b[0m\n\u001b[1;32m----> 5\u001b[1;33m \u001b[1;32mfrom\u001b[0m \u001b[1;33m.\u001b[0m \u001b[1;32mimport\u001b[0m \u001b[0mvocab\u001b[0m\u001b[1;33m\u001b[0m\u001b[1;33m\u001b[0m\u001b[0m\n\u001b[0m\u001b[0;32m      6\u001b[0m \u001b[1;32mfrom\u001b[0m \u001b[1;33m.\u001b[0m \u001b[1;32mimport\u001b[0m \u001b[0mlegacy\u001b[0m\u001b[1;33m\u001b[0m\u001b[1;33m\u001b[0m\u001b[0m\n\u001b[0;32m      7\u001b[0m \u001b[1;32mfrom\u001b[0m \u001b[1;33m.\u001b[0m\u001b[0m_extension\u001b[0m \u001b[1;32mimport\u001b[0m \u001b[0m_init_extension\u001b[0m\u001b[1;33m\u001b[0m\u001b[1;33m\u001b[0m\u001b[0m\n",
      "\u001b[1;32m~\\anaconda3\\envs\\yeseul\\lib\\site-packages\\torchtext\\vocab\\__init__.py\u001b[0m in \u001b[0;36m<module>\u001b[1;34m\u001b[0m\n\u001b[0;32m      9\u001b[0m )\n\u001b[0;32m     10\u001b[0m \u001b[1;33m\u001b[0m\u001b[0m\n\u001b[1;32m---> 11\u001b[1;33m from .vocab_factory import (\n\u001b[0m\u001b[0;32m     12\u001b[0m     \u001b[0mvocab\u001b[0m\u001b[1;33m,\u001b[0m\u001b[1;33m\u001b[0m\u001b[1;33m\u001b[0m\u001b[0m\n\u001b[0;32m     13\u001b[0m     \u001b[0mbuild_vocab_from_iterator\u001b[0m\u001b[1;33m,\u001b[0m\u001b[1;33m\u001b[0m\u001b[1;33m\u001b[0m\u001b[0m\n",
      "\u001b[1;32m~\\anaconda3\\envs\\yeseul\\lib\\site-packages\\torchtext\\vocab\\vocab_factory.py\u001b[0m in \u001b[0;36m<module>\u001b[1;34m\u001b[0m\n\u001b[0;32m      2\u001b[0m \u001b[1;32mfrom\u001b[0m \u001b[0mtyping\u001b[0m \u001b[1;32mimport\u001b[0m \u001b[0mDict\u001b[0m\u001b[1;33m,\u001b[0m \u001b[0mIterable\u001b[0m\u001b[1;33m,\u001b[0m \u001b[0mOptional\u001b[0m\u001b[1;33m,\u001b[0m \u001b[0mList\u001b[0m\u001b[1;33m\u001b[0m\u001b[1;33m\u001b[0m\u001b[0m\n\u001b[0;32m      3\u001b[0m \u001b[1;32mfrom\u001b[0m \u001b[0mcollections\u001b[0m \u001b[1;32mimport\u001b[0m \u001b[0mCounter\u001b[0m\u001b[1;33m,\u001b[0m \u001b[0mOrderedDict\u001b[0m\u001b[1;33m\u001b[0m\u001b[1;33m\u001b[0m\u001b[0m\n\u001b[1;32m----> 4\u001b[1;33m from torchtext._torchtext import (\n\u001b[0m\u001b[0;32m      5\u001b[0m     \u001b[0mVocab\u001b[0m \u001b[1;32mas\u001b[0m \u001b[0mVocabPybind\u001b[0m\u001b[1;33m,\u001b[0m\u001b[1;33m\u001b[0m\u001b[1;33m\u001b[0m\u001b[0m\n\u001b[0;32m      6\u001b[0m )\n",
      "\u001b[1;31mImportError\u001b[0m: DLL load failed: 지정된 프로시저를 찾을 수 없습니다."
     ]
    }
   ],
   "source": [
    "import torch\n",
    "import torchtext\n",
    "import numpy as np\n",
    "import torch.nn as nn\n",
    "import torch.nn.functional as F\n",
    "import time"
   ]
  },
  {
   "cell_type": "code",
   "execution_count": 3,
   "id": "d362cd36",
   "metadata": {},
   "outputs": [],
   "source": [
    "start = time.time()\n",
    "TEXT = torchtext.legacy.data.Field(lower=True, fix_length=200, batch_first=False)\n",
    "LABEL = torchtext.legacy.data.Field(sequential=False)"
   ]
  },
  {
   "cell_type": "code",
   "execution_count": 4,
   "id": "ee73f006",
   "metadata": {},
   "outputs": [],
   "source": [
    "from torchtext.legacy import datasets\n",
    "train_data, test_data = datasets.IMDB.splits(TEXT, LABEL)"
   ]
  },
  {
   "cell_type": "code",
   "execution_count": 5,
   "id": "d589f1d6",
   "metadata": {},
   "outputs": [
    {
     "name": "stdout",
     "output_type": "stream",
     "text": [
      "{'text': ['bromwell', 'high', 'is', 'a', 'cartoon', 'comedy.', 'it', 'ran', 'at', 'the', 'same', 'time', 'as', 'some', 'other', 'programs', 'about', 'school', 'life,', 'such', 'as', '\"teachers\".', 'my', '35', 'years', 'in', 'the', 'teaching', 'profession', 'lead', 'me', 'to', 'believe', 'that', 'bromwell', \"high's\", 'satire', 'is', 'much', 'closer', 'to', 'reality', 'than', 'is', '\"teachers\".', 'the', 'scramble', 'to', 'survive', 'financially,', 'the', 'insightful', 'students', 'who', 'can', 'see', 'right', 'through', 'their', 'pathetic', \"teachers'\", 'pomp,', 'the', 'pettiness', 'of', 'the', 'whole', 'situation,', 'all', 'remind', 'me', 'of', 'the', 'schools', 'i', 'knew', 'and', 'their', 'students.', 'when', 'i', 'saw', 'the', 'episode', 'in', 'which', 'a', 'student', 'repeatedly', 'tried', 'to', 'burn', 'down', 'the', 'school,', 'i', 'immediately', 'recalled', '.........', 'at', '..........', 'high.', 'a', 'classic', 'line:', 'inspector:', \"i'm\", 'here', 'to', 'sack', 'one', 'of', 'your', 'teachers.', 'student:', 'welcome', 'to', 'bromwell', 'high.', 'i', 'expect', 'that', 'many', 'adults', 'of', 'my', 'age', 'think', 'that', 'bromwell', 'high', 'is', 'far', 'fetched.', 'what', 'a', 'pity', 'that', 'it', \"isn't!\"], 'label': 'pos'}\n"
     ]
    }
   ],
   "source": [
    "print(vars(train_data.examples[0]))"
   ]
  },
  {
   "cell_type": "code",
   "execution_count": 6,
   "id": "036af03f",
   "metadata": {},
   "outputs": [],
   "source": [
    "import string\n",
    "\n",
    "for example in train_data.examples :\n",
    "    text = [x.lower() for x in vars(example)['text']]\n",
    "    text = [x.replace(\"<br\", \"\") for x in text]\n",
    "    text = [''.join(c for c in s if c not in string.punctuation) for s in text]\n",
    "    text = [s for s in text if s]\n",
    "    vars(example)['text'] = text\n",
    "    \n",
    "for example in test_data.examples :\n",
    "    text = [x.lower() for x in vars(example)['text']]\n",
    "    text = [x.replace(\"<br\", \"\") for x in text]\n",
    "    text = [''.join(c for c in s if c not in string.punctuation) for s in text]\n",
    "    text = [s for s in text if s]\n",
    "    vars(example)['text'] = text"
   ]
  },
  {
   "cell_type": "code",
   "execution_count": 7,
   "id": "be234e76",
   "metadata": {},
   "outputs": [],
   "source": [
    "import random\n",
    "\n",
    "train_data, valid_data = train_data.split(random_state=random.seed(0), split_ratio=0.8)"
   ]
  },
  {
   "cell_type": "code",
   "execution_count": 8,
   "id": "b8bd27f3",
   "metadata": {},
   "outputs": [
    {
     "name": "stdout",
     "output_type": "stream",
     "text": [
      "Number of training example : 20000\n",
      "Number of validation example : 5000\n",
      "Number of testing example : 25000\n"
     ]
    }
   ],
   "source": [
    "print(f'Number of training example : {len(train_data)}')\n",
    "print(f'Number of validation example : {len(valid_data)}')\n",
    "print(f'Number of testing example : {len(test_data)}')"
   ]
  },
  {
   "cell_type": "code",
   "execution_count": 9,
   "id": "203685b8",
   "metadata": {},
   "outputs": [
    {
     "name": "stdout",
     "output_type": "stream",
     "text": [
      "Unique tokens in TEXT vocabulary: 10002\n",
      "Unique tokens in LABEL vocabulary: 3\n"
     ]
    }
   ],
   "source": [
    "# 단어 집합\n",
    "TEXT.build_vocab(train_data, max_size=10000, min_freq=10, vectors=None)\n",
    "LABEL.build_vocab(train_data)\n",
    "\n",
    "print(f\"Unique tokens in TEXT vocabulary: {len(TEXT.vocab)}\")\n",
    "print(f\"Unique tokens in LABEL vocabulary: {len(LABEL.vocab)}\")"
   ]
  },
  {
   "cell_type": "code",
   "execution_count": 10,
   "id": "785e0a55",
   "metadata": {},
   "outputs": [
    {
     "name": "stdout",
     "output_type": "stream",
     "text": [
      "defaultdict(<bound method Vocab._default_unk_index of <torchtext.legacy.vocab.Vocab object at 0x000002DB1F0083C8>>, {'<unk>': 0, 'pos': 1, 'neg': 2})\n"
     ]
    }
   ],
   "source": [
    "print(LABEL.vocab.stoi)"
   ]
  },
  {
   "cell_type": "code",
   "execution_count": 11,
   "id": "fc7cdfad",
   "metadata": {},
   "outputs": [],
   "source": [
    "BATCH_SIZE=64\n",
    "device = torch.device('cuda:0' if torch.cuda.is_available() else 'cpu')\n",
    "\n",
    "embedding_dim = 100\n",
    "hidden_size= 300\n",
    "\n",
    "train_iterator, valid_iterator, test_iterator = torchtext.legacy.data.BucketIterator.splits(\n",
    "                (train_data, valid_data, test_data),\n",
    "                batch_size=BATCH_SIZE, device=device)"
   ]
  },
  {
   "cell_type": "markdown",
   "id": "a9071121",
   "metadata": {},
   "source": [
    "---\n",
    "## RNN cell"
   ]
  },
  {
   "cell_type": "code",
   "execution_count": null,
   "id": "739c3e36",
   "metadata": {},
   "outputs": [],
   "source": [
    "class RNNCell_Encoder(nn.Module) :\n",
    "    def __init__(self, input_dim, hidden_size) :\n",
    "        super(RNNCell_Encoder, self).__init__()\n",
    "        self.rnn = nn.RNNCell(input_dim, hidden_size)\n",
    "        \n",
    "    def forward(self, inputs) :\n",
    "        bz = inputs.shape[1]\n",
    "        ht = torch.zeros((bz, hidden_size)).to(device)\n",
    "        for word in inputs :\n",
    "            ht = self.rnn(word, ht)\n",
    "        return ht\n",
    "    \n",
    "class Net(nn.Module) :\n",
    "    def __init__(self) :\n",
    "        super(Net, self).__init__()\n",
    "        self.em = nn.Embedding(len(TEXT.vocab.stoi), embedding_dim)\n",
    "        self.rnn = RNNCell_Encoder(embedding_dim, hidden_size)\n",
    "        self.fc1 = nn.Linear(hidden_size, 256)\n",
    "        self.fc2 = nn.Linear(256, 3)\n",
    "        \n",
    "    def forward(self, x) :\n",
    "        x = self.em(x)\n",
    "        x = self.rnn(x)\n",
    "        x = F.relu(self.fc1(x))\n",
    "        x = self.fc2(x)\n",
    "        return x"
   ]
  },
  {
   "cell_type": "code",
   "execution_count": 13,
   "id": "f98750bc",
   "metadata": {},
   "outputs": [],
   "source": [
    "model = Net()\n",
    "model.to(device)\n",
    "\n",
    "loss_fn = nn.CrossEntropyLoss()\n",
    "optimizer = torch.optim.Adam(model.parameters(), lr=0.0001)"
   ]
  },
  {
   "cell_type": "code",
   "execution_count": 14,
   "id": "ec59f4e4",
   "metadata": {},
   "outputs": [],
   "source": [
    "def training(epoch, model, trainloader, validloader) :\n",
    "    correct = 0\n",
    "    total = 0\n",
    "    running_loss = 0\n",
    "    \n",
    "    model.train()\n",
    "    \n",
    "    for b in trainloader :\n",
    "        x, y = b.text, b.label\n",
    "        x, y = x.to(device), y.to(device)\n",
    "        y_pred = model(x)\n",
    "        loss = loss_fn(y_pred, y)\n",
    "        optimizer.zero_grad()\n",
    "        loss.backward()\n",
    "        optimizer.step()\n",
    "        \n",
    "        with torch.no_grad() : \n",
    "            y_pred = torch.argmax(y_pred, dim=1)\n",
    "            correct += (y_pred == y).sum().item()\n",
    "            total += y.size(0)\n",
    "            running_loss += loss.item()\n",
    "            \n",
    "    epoch_loss = running_loss / len(trainloader.dataset)\n",
    "    epoch_acc = correct / total\n",
    "    \n",
    "    valid_correct = 0\n",
    "    valid_total = 0\n",
    "    valid_running_loss = 0\n",
    "    \n",
    "    model.eval()\n",
    "    with torch.no_grad() :\n",
    "        for b in validloader :\n",
    "            x, y = b.text, b.label\n",
    "            x, y =x.to(device), y.to(device)\n",
    "            y_pred = model(x)\n",
    "            loss = loss_fn(y_pred, y)\n",
    "            y_pred = torch.argmax(y_pred, dim=1)\n",
    "            valid_correct += (y_pred == y).sum().item()\n",
    "            valid_total += y.size(0)\n",
    "            valid_running_loss += loss.item()\n",
    "            \n",
    "    epoch_valid_loss = valid_running_loss / len(validloader.dataset)\n",
    "    epoch_valid_acc = valid_correct / valid_total\n",
    "    \n",
    "    print('epoch :', epoch,\n",
    "         'loss :', round(epoch_loss, 3),\n",
    "         'accuarcy :', round(epoch_acc, 3),\n",
    "         'valid_loss :', round(epoch_valid_loss,3),\n",
    "         'valid_accuracy :', round(epoch_valid_acc, 3))\n",
    "    \n",
    "    return epoch_loss, epoch_acc, epoch_valid_loss, epoch_valid_acc"
   ]
  },
  {
   "cell_type": "code",
   "execution_count": 16,
   "id": "c1a285e6",
   "metadata": {},
   "outputs": [
    {
     "name": "stdout",
     "output_type": "stream",
     "text": [
      "epoch : 0 loss : 0.011 accuarcy : 0.533 valid_loss : 0.011 valid_accuracy : 0.501\n",
      "epoch : 1 loss : 0.011 accuarcy : 0.543 valid_loss : 0.011 valid_accuracy : 0.519\n",
      "epoch : 2 loss : 0.011 accuarcy : 0.546 valid_loss : 0.011 valid_accuracy : 0.502\n",
      "epoch : 3 loss : 0.011 accuarcy : 0.561 valid_loss : 0.011 valid_accuracy : 0.513\n",
      "epoch : 4 loss : 0.01 accuarcy : 0.562 valid_loss : 0.011 valid_accuracy : 0.525\n",
      "epoch : 5 loss : 0.01 accuarcy : 0.571 valid_loss : 0.011 valid_accuracy : 0.527\n",
      "epoch : 6 loss : 0.01 accuarcy : 0.575 valid_loss : 0.011 valid_accuracy : 0.53\n",
      "epoch : 7 loss : 0.01 accuarcy : 0.586 valid_loss : 0.011 valid_accuracy : 0.508\n",
      "epoch : 8 loss : 0.01 accuarcy : 0.587 valid_loss : 0.011 valid_accuracy : 0.544\n",
      "epoch : 9 loss : 0.01 accuarcy : 0.594 valid_loss : 0.011 valid_accuracy : 0.532\n",
      "epoch : 10 loss : 0.01 accuarcy : 0.606 valid_loss : 0.012 valid_accuracy : 0.529\n",
      "epoch : 11 loss : 0.01 accuarcy : 0.61 valid_loss : 0.012 valid_accuracy : 0.526\n",
      "epoch : 12 loss : 0.009 accuarcy : 0.656 valid_loss : 0.011 valid_accuracy : 0.634\n",
      "epoch : 13 loss : 0.01 accuarcy : 0.629 valid_loss : 0.012 valid_accuracy : 0.6\n",
      "epoch : 14 loss : 0.009 accuarcy : 0.645 valid_loss : 0.012 valid_accuracy : 0.518\n",
      "1821.0290503501892\n"
     ]
    }
   ],
   "source": [
    "epochs = 5\n",
    "train_loss = []\n",
    "train_acc = []\n",
    "valid_loss = []\n",
    "valid_acc = []\n",
    "\n",
    "for epoch in range(epochs) :\n",
    "    epoch_loss, epoch_acc, epoch_valid_loss, epoch_valid_acc = training(\n",
    "    epoch, model, train_iterator, valid_iterator)\n",
    "    \n",
    "    train_loss.append(epoch_loss)\n",
    "    train_acc.append(epoch_acc)\n",
    "    valid_loss.append(epoch_valid_loss)\n",
    "    valid_acc.append(epoch_valid_acc)\n",
    "    \n",
    "end = time.time()\n",
    "print(end-start)"
   ]
  },
  {
   "cell_type": "code",
   "execution_count": 21,
   "id": "22295f5d",
   "metadata": {},
   "outputs": [],
   "source": [
    "# prediction\n",
    "def evaluate(epoch, model, testloader) :\n",
    "    test_correct = 0\n",
    "    test_total = 0\n",
    "    test_running_loss = 0\n",
    "    \n",
    "    model.eval()\n",
    "    with torch.no_grad() :\n",
    "        for b in testloader :\n",
    "            x, y = b.text, b.label\n",
    "            x, y = x.to(device), y.to(device)\n",
    "            y_pred = model(x)\n",
    "            loss = loss_fn(y_pred, y)\n",
    "            y_pred = torch.argmax(y_pred, dim=1)\n",
    "            test_correct += (y_pred == y).sum().item()\n",
    "            test_total += y.size(0)\n",
    "            test_running_loss += loss.item()\n",
    "            \n",
    "    epoch_test_loss = test_running_loss / len(testloader.dataset)\n",
    "    epoch_test_acc = test_correct / test_total\n",
    "    \n",
    "    print('epoch :', epoch,\n",
    "         'test_loss :', round(epoch_test_loss,3),\n",
    "         'test_accuracy :', round(epoch_test_acc, 3))\n",
    "    \n",
    "    return epoch_test_loss, epoch_test_acc"
   ]
  },
  {
   "cell_type": "code",
   "execution_count": 22,
   "id": "d5deaf5e",
   "metadata": {},
   "outputs": [
    {
     "name": "stdout",
     "output_type": "stream",
     "text": [
      "epoch : 0 test_loss : 0.012 test_accuracy : 0.528\n",
      "epoch : 1 test_loss : 0.012 test_accuracy : 0.528\n",
      "epoch : 2 test_loss : 0.012 test_accuracy : 0.528\n",
      "epoch : 3 test_loss : 0.012 test_accuracy : 0.528\n",
      "epoch : 4 test_loss : 0.012 test_accuracy : 0.528\n",
      "2033.8352789878845\n"
     ]
    }
   ],
   "source": [
    "epoch = 5\n",
    "test_loss = []\n",
    "test_acc = []\n",
    "\n",
    "for epoch in range(epoch) :\n",
    "    epoch_test_loss, epoch_test_acc = evaluate(epoch, model, test_iterator)\n",
    "    \n",
    "    test_loss.append(epoch_test_loss)\n",
    "    test_acc.append(epoch_test_acc)\n",
    "    \n",
    "end = time.time()\n",
    "print(end-start)"
   ]
  },
  {
   "cell_type": "markdown",
   "id": "7aba60d0",
   "metadata": {},
   "source": [
    "---"
   ]
  },
  {
   "cell_type": "markdown",
   "id": "94ec6f7f",
   "metadata": {},
   "source": [
    "## RNN layer"
   ]
  },
  {
   "cell_type": "code",
   "execution_count": 23,
   "id": "ecc14061",
   "metadata": {},
   "outputs": [],
   "source": [
    "start = time.time()\n",
    "\n",
    "TEXT = torchtext.legacy.data.Field(sequential=True, batch_first=True, lower=True)\n",
    "LABEL = torchtext.legacy.data.Field(sequential=False, batch_first=True)\n",
    "\n",
    "from torchtext.legacy import datasets\n",
    "train_data, test_data = datasets.IMDB.splits(TEXT ,LABEL)\n",
    "train_data, valid_data = train_data.split(split_ratio=0.8)\n",
    "\n",
    "TEXT.build_vocab(train_data, max_size=10000, min_freq=10, vectors=None)\n",
    "LABEL.build_vocab(train_data)\n",
    "\n",
    "BATCH_SIZE=100\n",
    "device = torch.device('cuda:0' if torch.cuda.is_available() else 'cpu')"
   ]
  },
  {
   "cell_type": "code",
   "execution_count": 24,
   "id": "b95004a0",
   "metadata": {},
   "outputs": [],
   "source": [
    "train_iterator, valid_iterator, test_iterator = torchtext.legacy.data.BucketIterator.splits(\n",
    "    (train_data, valid_data, test_data),\n",
    "    batch_size=BATCH_SIZE,\n",
    "    device=device)"
   ]
  },
  {
   "cell_type": "code",
   "execution_count": 25,
   "id": "27c11bd4",
   "metadata": {},
   "outputs": [],
   "source": [
    "vocab_size=len(TEXT.vocab)\n",
    "n_classes = 2"
   ]
  },
  {
   "cell_type": "code",
   "execution_count": 19,
   "id": "100aed46",
   "metadata": {},
   "outputs": [],
   "source": [
    "# RNN network\n",
    "class BasicRNN(nn.Module) : \n",
    "    def __init__(self, n_layers, hidden_dim, n_vocab, embed_dim, n_classes, dropout_p=0.2) :\n",
    "        super(BasicRNN, self).__init__()\n",
    "        self.n_layers = n_layers\n",
    "        self.embed = nn.Embedding(n_vocab, embed_dim)\n",
    "        self.hidden_dim = hidden_dim\n",
    "        self.dropout = nn.Dropout(dropout_p)\n",
    "        self.rnn = nn.RNN(embed_dim, self.hidden_dim, num_layers=self.n_layers,\n",
    "                         batch_first=True)\n",
    "        self.out = nn.Linear(self.hidden_dim, n_classes)\n",
    "        \n",
    "    def forward(self, x) :\n",
    "        x = self.embed(x)\n",
    "        h_0 = self._init_state(batch_size=x.size(0))\n",
    "        x, _ = self.rnn(x, h_0)\n",
    "        h_t = x[:, -1, :]\n",
    "        self.dropout(h_t)\n",
    "        logit = torch.sigmoid(self.out(h_t))\n",
    "        return logit\n",
    "    \n",
    "    def _init_state(self, batch_size=1) :\n",
    "        weight = next(self.parameters()).data\n",
    "        return weight.new(self.n_layers, batch_size, self.hidden_dim).zero_()"
   ]
  },
  {
   "cell_type": "code",
   "execution_count": 26,
   "id": "5c24db29",
   "metadata": {},
   "outputs": [],
   "source": [
    "model = BasicRNN(n_layers=1, hidden_dim=256, n_vocab=vocab_size,\n",
    "                embed_dim=128, n_classes=n_classes, dropout_p=0.5)\n",
    "model.to(device)\n",
    "\n",
    "loss_fn = nn.CrossEntropyLoss()\n",
    "optimizer = torch.optim.Adam(model.parameters(), lr=0.0001)"
   ]
  },
  {
   "cell_type": "code",
   "execution_count": 28,
   "id": "91a6e9cb",
   "metadata": {},
   "outputs": [],
   "source": [
    "# 모델 학습\n",
    "def train(model, optimizer, train_iter) :\n",
    "    model.train()\n",
    "    for b, batch in enumerate(train_iter) :\n",
    "        x, y = batch.text.to(device), batch.label.to(device)\n",
    "        y.data.sub_(1)\n",
    "        optimizer.zero_grad()\n",
    "        \n",
    "        logit = model(x)\n",
    "        loss = F.cross_entropy(logit, y)\n",
    "        loss.backward()\n",
    "        optimizer.step()\n",
    "        \n",
    "        if b % 50 == 0 :\n",
    "            print(f'Train Epoch : {e} [{b*len(x)}/{len(train_iter.dataset)} ({100*b /len(train_iter):.0f}%)] \\tLoss : {loss.item():.6f}')"
   ]
  },
  {
   "cell_type": "code",
   "execution_count": 29,
   "id": "38e498f6",
   "metadata": {},
   "outputs": [],
   "source": [
    "def evaluate(model, val_iter) :\n",
    "    model.eval()\n",
    "    corrects, total, total_loss = 0, 0, 0\n",
    "    \n",
    "    for batch in val_iter :\n",
    "        x, y = batch.text.to(device), batch.label.to(device)\n",
    "        y.data.sub_(1)\n",
    "        logit = model(x)\n",
    "        loss = F.cross_entropy(logit, y, reduction='sum')\n",
    "        total += y.size(0)\n",
    "        total_loss += loss.item()\n",
    "        corrects += (logit.max(1)[1].view(y.size()).data == y.data).sum()\n",
    "        \n",
    "    avg_loss = total_loss / len(val_iter.dataset)\n",
    "    avg_accuracy = corrects / total\n",
    "    return avg_loss, avg_accuracy"
   ]
  },
  {
   "cell_type": "code",
   "execution_count": 33,
   "id": "2853aa31",
   "metadata": {},
   "outputs": [
    {
     "name": "stdout",
     "output_type": "stream",
     "text": [
      "Train Epoch : 1 [0/20000 (0%)] \tLoss : 0.694180\n",
      "Train Epoch : 1 [5000/20000 (25%)] \tLoss : 0.692448\n",
      "Train Epoch : 1 [10000/20000 (50%)] \tLoss : 0.693092\n",
      "Train Epoch : 1 [15000/20000 (75%)] \tLoss : 0.693905\n",
      "[EPOCH : 1], Validation Loss :  0.69 | Validation Accuracy :  0.49\n",
      "Train Epoch : 2 [0/20000 (0%)] \tLoss : 0.692658\n",
      "Train Epoch : 2 [5000/20000 (25%)] \tLoss : 0.692992\n",
      "Train Epoch : 2 [10000/20000 (50%)] \tLoss : 0.692344\n",
      "Train Epoch : 2 [15000/20000 (75%)] \tLoss : 0.694532\n",
      "[EPOCH : 2], Validation Loss :  0.69 | Validation Accuracy :  0.49\n",
      "Train Epoch : 3 [0/20000 (0%)] \tLoss : 0.693309\n",
      "Train Epoch : 3 [5000/20000 (25%)] \tLoss : 0.692449\n",
      "Train Epoch : 3 [10000/20000 (50%)] \tLoss : 0.692074\n",
      "Train Epoch : 3 [15000/20000 (75%)] \tLoss : 0.691087\n",
      "[EPOCH : 3], Validation Loss :  0.69 | Validation Accuracy :  0.50\n",
      "Train Epoch : 4 [0/20000 (0%)] \tLoss : 0.694184\n",
      "Train Epoch : 4 [5000/20000 (25%)] \tLoss : 0.693150\n",
      "Train Epoch : 4 [10000/20000 (50%)] \tLoss : 0.692580\n",
      "Train Epoch : 4 [15000/20000 (75%)] \tLoss : 0.692737\n",
      "[EPOCH : 4], Validation Loss :  0.69 | Validation Accuracy :  0.49\n",
      "Train Epoch : 5 [0/20000 (0%)] \tLoss : 0.692362\n",
      "Train Epoch : 5 [5000/20000 (25%)] \tLoss : 0.692097\n",
      "Train Epoch : 5 [10000/20000 (50%)] \tLoss : 0.691617\n",
      "Train Epoch : 5 [15000/20000 (75%)] \tLoss : 0.693221\n",
      "[EPOCH : 5], Validation Loss :  0.69 | Validation Accuracy :  0.50\n"
     ]
    }
   ],
   "source": [
    "BATCH_SIZE=100\n",
    "lr=0.001\n",
    "EPOCHS=5\n",
    "\n",
    "for e in range(1, EPOCHS+1) :\n",
    "    train(model, optimizer, train_iterator)\n",
    "    val_loss, val_accuracy = evaluate(model, valid_iterator)\n",
    "    \n",
    "    print(f'[EPOCH : {e}], Validation Loss : {val_loss:5.2f} | Validation Accuracy : {val_accuracy:5.2f}')"
   ]
  },
  {
   "cell_type": "code",
   "execution_count": 35,
   "id": "ea6278da",
   "metadata": {},
   "outputs": [
    {
     "name": "stdout",
     "output_type": "stream",
     "text": [
      "Test Loss :  0.70 | Test Accuracy :  0.44\n"
     ]
    }
   ],
   "source": [
    "test_loss, test_acc = evaluate(model, test_iterator)\n",
    "print(f'Test Loss : {test_loss:5.2f} | Test Accuracy : {test_acc:5.2f}')"
   ]
  },
  {
   "cell_type": "code",
   "execution_count": null,
   "id": "a2076dbf",
   "metadata": {},
   "outputs": [],
   "source": []
  },
  {
   "cell_type": "code",
   "execution_count": null,
   "id": "1bff0f32",
   "metadata": {},
   "outputs": [],
   "source": []
  },
  {
   "cell_type": "code",
   "execution_count": null,
   "id": "ea92606e",
   "metadata": {},
   "outputs": [],
   "source": []
  },
  {
   "cell_type": "code",
   "execution_count": null,
   "id": "2250230b",
   "metadata": {},
   "outputs": [],
   "source": []
  },
  {
   "cell_type": "code",
   "execution_count": null,
   "id": "aaa9ba8f",
   "metadata": {},
   "outputs": [],
   "source": []
  }
 ],
 "metadata": {
  "kernelspec": {
   "display_name": "yeseul",
   "language": "python",
   "name": "yeseul"
  },
  "language_info": {
   "codemirror_mode": {
    "name": "ipython",
    "version": 3
   },
   "file_extension": ".py",
   "mimetype": "text/x-python",
   "name": "python",
   "nbconvert_exporter": "python",
   "pygments_lexer": "ipython3",
   "version": "3.7.10"
  },
  "toc": {
   "base_numbering": 1,
   "nav_menu": {},
   "number_sections": false,
   "sideBar": true,
   "skip_h1_title": false,
   "title_cell": "Table of Contents",
   "title_sidebar": "Contents",
   "toc_cell": false,
   "toc_position": {},
   "toc_section_display": true,
   "toc_window_display": true
  }
 },
 "nbformat": 4,
 "nbformat_minor": 5
}
